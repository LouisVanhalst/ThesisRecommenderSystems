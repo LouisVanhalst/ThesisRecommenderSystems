{
 "cells": [
  {
   "cell_type": "code",
   "execution_count": 12,
   "id": "539404f6-52b7-423b-afae-fc4cca733821",
   "metadata": {},
   "outputs": [],
   "source": [
    "import pickle\n",
    "import os\n",
    "\n",
    "#get output results GC-MC\n",
    "base_path = \"../outputsGCMC/MovieLens100K\" \n",
    "\n",
    "\n",
    "#Read the data\n",
    "with open(os.path.join(base_path, \"test_labels.pickle\"), \"rb\") as file:\n",
    "    test_labels = pickle.load(file,  encoding=\"latin1\")\n",
    "file.close()\n",
    "\n",
    "with open(os.path.join(base_path, \"class_values.pickle\"), \"rb\") as file:\n",
    "    class_values = pickle.load(file, encoding=\"latin1\")\n",
    "file.close()\n",
    "\n",
    "# Test labels go from 0 to 4, which corresponds to classes 1 to 5\n",
    "test_labels = test_labels + 1 \n"
   ]
  },
  {
   "cell_type": "code",
   "execution_count": 13,
   "id": "51539890-3c5f-48fe-a2a6-031edb1596f5",
   "metadata": {},
   "outputs": [],
   "source": [
    "#Load predictions\n",
    "with open(os.path.join(base_path, \"test_dict.pickle\"), \"rb\") as file:\n",
    "    test_dict = pickle.load(file,  encoding=\"latin1\")\n",
    "file.close()\n",
    "\n",
    "with open(os.path.join(base_path, \"predictions.pickle\"), \"rb\") as file:\n",
    "    predictions = pickle.load(file, encoding=\"latin1\")\n",
    "file.close()\n"
   ]
  },
  {
   "cell_type": "code",
   "execution_count": 20,
   "id": "25894984-d39a-404a-aad4-bf19c5ee9443",
   "metadata": {},
   "outputs": [
    {
     "data": {
      "text/plain": [
       "0.9041063586618923"
      ]
     },
     "execution_count": 20,
     "metadata": {},
     "output_type": "execute_result"
    }
   ],
   "source": [
    "#Calculate metrics\n",
    "##RSME\n",
    "from surprise import accuracy\n",
    "from scipy.special import softmax\n",
    "\n",
    "import numpy as np\n",
    "\n",
    "ss = softmax(predictions[0],axis=1)\n",
    "pred_y = ss * class_values\n",
    "pred_y = pred_y.sum(axis=1)\n",
    "diff =  test_labels - pred_y \n",
    "np.sqrt(np.mean(diff**2))\n",
    "\n"
   ]
  },
  {
   "cell_type": "code",
   "execution_count": 21,
   "id": "be70e546-a69f-41d2-8670-4898d8d0a345",
   "metadata": {},
   "outputs": [
    {
     "data": {
      "text/plain": [
       "0.7082446940253759"
      ]
     },
     "execution_count": 21,
     "metadata": {},
     "output_type": "execute_result"
    }
   ],
   "source": [
    "#MAE\n",
    "from sklearn.metrics import mean_absolute_error\n",
    "mean_absolute_error(test_labels, pred_y)"
   ]
  },
  {
   "cell_type": "code",
   "execution_count": 19,
   "id": "0152d6dc-5b94-4613-a398-2cb7d6057954",
   "metadata": {},
   "outputs": [
    {
     "data": {
      "text/plain": [
       "0.9103792783561415"
      ]
     },
     "execution_count": 19,
     "metadata": {},
     "output_type": "execute_result"
    }
   ],
   "source": [
    "#NDCG\n",
    "from sklearn.metrics import ndcg_score\n",
    "from scipy import sparse\n",
    "\n",
    "# Turn predictions into probabilities\n",
    "ss = softmax(predictions[0],axis=1)\n",
    "\n",
    "# multiply each class value with the predicted probabilities!\n",
    "estimated_labels = (ss * class_values).sum(axis=1)\n",
    "\n",
    "uids = test_dict['test_u_indices']\n",
    "iids = test_dict['test_v_indices']\n",
    "r_uis = test_labels\n",
    "ests = estimated_labels\n",
    "\n",
    "# Choose a k value!\n",
    "k_highest_scores = 10\n",
    "\n",
    "assert(len(uids) == len(iids) == len(r_uis) == len(ests) )    \n",
    "    \n",
    "sparse_preds = sparse.coo_matrix( (ests, (uids , iids )) )\n",
    "sparse_vals = sparse.coo_matrix( (r_uis, (uids , iids )) )\n",
    "\n",
    "dense_preds = sparse_preds.toarray()\n",
    "dense_vals = sparse_vals.toarray()\n",
    "\n",
    "ndcg_score(y_true= dense_vals , y_score= dense_preds, k=k_highest_scores)"
   ]
  },
  {
   "cell_type": "code",
   "execution_count": null,
   "id": "a2488f8e-43f0-4bbd-91e3-f3b470c2006d",
   "metadata": {},
   "outputs": [],
   "source": []
  }
 ],
 "metadata": {
  "environment": {
   "kernel": "python3",
   "name": "tf2-gpu.2-8.m90",
   "type": "gcloud",
   "uri": "gcr.io/deeplearning-platform-release/tf2-gpu.2-8:m90"
  },
  "kernelspec": {
   "display_name": "Python 3",
   "language": "python",
   "name": "python3"
  },
  "language_info": {
   "codemirror_mode": {
    "name": "ipython",
    "version": 3
   },
   "file_extension": ".py",
   "mimetype": "text/x-python",
   "name": "python",
   "nbconvert_exporter": "python",
   "pygments_lexer": "ipython3",
   "version": "3.7.12"
  }
 },
 "nbformat": 4,
 "nbformat_minor": 5
}
